{
  "cells": [
    {
      "cell_type": "markdown",
      "metadata": {
        "id": "s8jRgxO5DuRI"
      },
      "source": [
        "### Regresi"
      ]
    },
    {
      "cell_type": "code",
      "source": [
        "import pandas as pd\n",
        "dp = pd.read_csv('/content/employee_survey.csv')\n",
        "dp.head()"
      ],
      "metadata": {
        "colab": {
          "base_uri": "https://localhost:8080/",
          "height": 342
        },
        "id": "I_Chpzo4C3Xe",
        "outputId": "6245e765-db8e-4ea0-808b-537d9fab3aae"
      },
      "execution_count": 6,
      "outputs": [
        {
          "output_type": "execute_result",
          "data": {
            "text/plain": [
              "   EmpID  Gender  Age MaritalStatus        JobLevel  Experience       Dept  \\\n",
              "0      6    Male   32       Married             Mid           7         IT   \n",
              "1     11  Female   34       Married             Mid          12    Finance   \n",
              "2     33  Female   23        Single  Intern/Fresher           1  Marketing   \n",
              "3     20  Female   29       Married          Junior           6         IT   \n",
              "4     28   Other   23        Single          Junior           1      Sales   \n",
              "\n",
              "     EmpType  WLB  WorkEnv  ...  SleepHours       CommuteMode  \\\n",
              "0  Full-Time    1        1  ...         7.6               Car   \n",
              "1  Full-Time    1        1  ...         7.9               Car   \n",
              "2  Full-Time    2        4  ...         6.5         Motorbike   \n",
              "3   Contract    2        2  ...         7.5  Public Transport   \n",
              "4  Part-Time    3        1  ...         4.9               Car   \n",
              "\n",
              "   CommuteDistance  NumCompanies TeamSize  NumReports  EduLevel  haveOT  \\\n",
              "0               20             3       12           0  Bachelor    True   \n",
              "1               15             4       11           0  Bachelor   False   \n",
              "2               17             0       30           0  Bachelor    True   \n",
              "3               13             2        9           0  Bachelor    True   \n",
              "4               20             0        7           0  Bachelor   False   \n",
              "\n",
              "   TrainingHoursPerYear JobSatisfaction  \n",
              "0                  33.5               5  \n",
              "1                  36.0               5  \n",
              "2                  10.5               5  \n",
              "3                  23.0               5  \n",
              "4                  20.5               5  \n",
              "\n",
              "[5 rows x 23 columns]"
            ],
            "text/html": [
              "\n",
              "  <div id=\"df-4ca7e6c2-999f-405c-b21a-8adace64bdce\" class=\"colab-df-container\">\n",
              "    <div>\n",
              "<style scoped>\n",
              "    .dataframe tbody tr th:only-of-type {\n",
              "        vertical-align: middle;\n",
              "    }\n",
              "\n",
              "    .dataframe tbody tr th {\n",
              "        vertical-align: top;\n",
              "    }\n",
              "\n",
              "    .dataframe thead th {\n",
              "        text-align: right;\n",
              "    }\n",
              "</style>\n",
              "<table border=\"1\" class=\"dataframe\">\n",
              "  <thead>\n",
              "    <tr style=\"text-align: right;\">\n",
              "      <th></th>\n",
              "      <th>EmpID</th>\n",
              "      <th>Gender</th>\n",
              "      <th>Age</th>\n",
              "      <th>MaritalStatus</th>\n",
              "      <th>JobLevel</th>\n",
              "      <th>Experience</th>\n",
              "      <th>Dept</th>\n",
              "      <th>EmpType</th>\n",
              "      <th>WLB</th>\n",
              "      <th>WorkEnv</th>\n",
              "      <th>...</th>\n",
              "      <th>SleepHours</th>\n",
              "      <th>CommuteMode</th>\n",
              "      <th>CommuteDistance</th>\n",
              "      <th>NumCompanies</th>\n",
              "      <th>TeamSize</th>\n",
              "      <th>NumReports</th>\n",
              "      <th>EduLevel</th>\n",
              "      <th>haveOT</th>\n",
              "      <th>TrainingHoursPerYear</th>\n",
              "      <th>JobSatisfaction</th>\n",
              "    </tr>\n",
              "  </thead>\n",
              "  <tbody>\n",
              "    <tr>\n",
              "      <th>0</th>\n",
              "      <td>6</td>\n",
              "      <td>Male</td>\n",
              "      <td>32</td>\n",
              "      <td>Married</td>\n",
              "      <td>Mid</td>\n",
              "      <td>7</td>\n",
              "      <td>IT</td>\n",
              "      <td>Full-Time</td>\n",
              "      <td>1</td>\n",
              "      <td>1</td>\n",
              "      <td>...</td>\n",
              "      <td>7.6</td>\n",
              "      <td>Car</td>\n",
              "      <td>20</td>\n",
              "      <td>3</td>\n",
              "      <td>12</td>\n",
              "      <td>0</td>\n",
              "      <td>Bachelor</td>\n",
              "      <td>True</td>\n",
              "      <td>33.5</td>\n",
              "      <td>5</td>\n",
              "    </tr>\n",
              "    <tr>\n",
              "      <th>1</th>\n",
              "      <td>11</td>\n",
              "      <td>Female</td>\n",
              "      <td>34</td>\n",
              "      <td>Married</td>\n",
              "      <td>Mid</td>\n",
              "      <td>12</td>\n",
              "      <td>Finance</td>\n",
              "      <td>Full-Time</td>\n",
              "      <td>1</td>\n",
              "      <td>1</td>\n",
              "      <td>...</td>\n",
              "      <td>7.9</td>\n",
              "      <td>Car</td>\n",
              "      <td>15</td>\n",
              "      <td>4</td>\n",
              "      <td>11</td>\n",
              "      <td>0</td>\n",
              "      <td>Bachelor</td>\n",
              "      <td>False</td>\n",
              "      <td>36.0</td>\n",
              "      <td>5</td>\n",
              "    </tr>\n",
              "    <tr>\n",
              "      <th>2</th>\n",
              "      <td>33</td>\n",
              "      <td>Female</td>\n",
              "      <td>23</td>\n",
              "      <td>Single</td>\n",
              "      <td>Intern/Fresher</td>\n",
              "      <td>1</td>\n",
              "      <td>Marketing</td>\n",
              "      <td>Full-Time</td>\n",
              "      <td>2</td>\n",
              "      <td>4</td>\n",
              "      <td>...</td>\n",
              "      <td>6.5</td>\n",
              "      <td>Motorbike</td>\n",
              "      <td>17</td>\n",
              "      <td>0</td>\n",
              "      <td>30</td>\n",
              "      <td>0</td>\n",
              "      <td>Bachelor</td>\n",
              "      <td>True</td>\n",
              "      <td>10.5</td>\n",
              "      <td>5</td>\n",
              "    </tr>\n",
              "    <tr>\n",
              "      <th>3</th>\n",
              "      <td>20</td>\n",
              "      <td>Female</td>\n",
              "      <td>29</td>\n",
              "      <td>Married</td>\n",
              "      <td>Junior</td>\n",
              "      <td>6</td>\n",
              "      <td>IT</td>\n",
              "      <td>Contract</td>\n",
              "      <td>2</td>\n",
              "      <td>2</td>\n",
              "      <td>...</td>\n",
              "      <td>7.5</td>\n",
              "      <td>Public Transport</td>\n",
              "      <td>13</td>\n",
              "      <td>2</td>\n",
              "      <td>9</td>\n",
              "      <td>0</td>\n",
              "      <td>Bachelor</td>\n",
              "      <td>True</td>\n",
              "      <td>23.0</td>\n",
              "      <td>5</td>\n",
              "    </tr>\n",
              "    <tr>\n",
              "      <th>4</th>\n",
              "      <td>28</td>\n",
              "      <td>Other</td>\n",
              "      <td>23</td>\n",
              "      <td>Single</td>\n",
              "      <td>Junior</td>\n",
              "      <td>1</td>\n",
              "      <td>Sales</td>\n",
              "      <td>Part-Time</td>\n",
              "      <td>3</td>\n",
              "      <td>1</td>\n",
              "      <td>...</td>\n",
              "      <td>4.9</td>\n",
              "      <td>Car</td>\n",
              "      <td>20</td>\n",
              "      <td>0</td>\n",
              "      <td>7</td>\n",
              "      <td>0</td>\n",
              "      <td>Bachelor</td>\n",
              "      <td>False</td>\n",
              "      <td>20.5</td>\n",
              "      <td>5</td>\n",
              "    </tr>\n",
              "  </tbody>\n",
              "</table>\n",
              "<p>5 rows × 23 columns</p>\n",
              "</div>\n",
              "    <div class=\"colab-df-buttons\">\n",
              "\n",
              "  <div class=\"colab-df-container\">\n",
              "    <button class=\"colab-df-convert\" onclick=\"convertToInteractive('df-4ca7e6c2-999f-405c-b21a-8adace64bdce')\"\n",
              "            title=\"Convert this dataframe to an interactive table.\"\n",
              "            style=\"display:none;\">\n",
              "\n",
              "  <svg xmlns=\"http://www.w3.org/2000/svg\" height=\"24px\" viewBox=\"0 -960 960 960\">\n",
              "    <path d=\"M120-120v-720h720v720H120Zm60-500h600v-160H180v160Zm220 220h160v-160H400v160Zm0 220h160v-160H400v160ZM180-400h160v-160H180v160Zm440 0h160v-160H620v160ZM180-180h160v-160H180v160Zm440 0h160v-160H620v160Z\"/>\n",
              "  </svg>\n",
              "    </button>\n",
              "\n",
              "  <style>\n",
              "    .colab-df-container {\n",
              "      display:flex;\n",
              "      gap: 12px;\n",
              "    }\n",
              "\n",
              "    .colab-df-convert {\n",
              "      background-color: #E8F0FE;\n",
              "      border: none;\n",
              "      border-radius: 50%;\n",
              "      cursor: pointer;\n",
              "      display: none;\n",
              "      fill: #1967D2;\n",
              "      height: 32px;\n",
              "      padding: 0 0 0 0;\n",
              "      width: 32px;\n",
              "    }\n",
              "\n",
              "    .colab-df-convert:hover {\n",
              "      background-color: #E2EBFA;\n",
              "      box-shadow: 0px 1px 2px rgba(60, 64, 67, 0.3), 0px 1px 3px 1px rgba(60, 64, 67, 0.15);\n",
              "      fill: #174EA6;\n",
              "    }\n",
              "\n",
              "    .colab-df-buttons div {\n",
              "      margin-bottom: 4px;\n",
              "    }\n",
              "\n",
              "    [theme=dark] .colab-df-convert {\n",
              "      background-color: #3B4455;\n",
              "      fill: #D2E3FC;\n",
              "    }\n",
              "\n",
              "    [theme=dark] .colab-df-convert:hover {\n",
              "      background-color: #434B5C;\n",
              "      box-shadow: 0px 1px 3px 1px rgba(0, 0, 0, 0.15);\n",
              "      filter: drop-shadow(0px 1px 2px rgba(0, 0, 0, 0.3));\n",
              "      fill: #FFFFFF;\n",
              "    }\n",
              "  </style>\n",
              "\n",
              "    <script>\n",
              "      const buttonEl =\n",
              "        document.querySelector('#df-4ca7e6c2-999f-405c-b21a-8adace64bdce button.colab-df-convert');\n",
              "      buttonEl.style.display =\n",
              "        google.colab.kernel.accessAllowed ? 'block' : 'none';\n",
              "\n",
              "      async function convertToInteractive(key) {\n",
              "        const element = document.querySelector('#df-4ca7e6c2-999f-405c-b21a-8adace64bdce');\n",
              "        const dataTable =\n",
              "          await google.colab.kernel.invokeFunction('convertToInteractive',\n",
              "                                                    [key], {});\n",
              "        if (!dataTable) return;\n",
              "\n",
              "        const docLinkHtml = 'Like what you see? Visit the ' +\n",
              "          '<a target=\"_blank\" href=https://colab.research.google.com/notebooks/data_table.ipynb>data table notebook</a>'\n",
              "          + ' to learn more about interactive tables.';\n",
              "        element.innerHTML = '';\n",
              "        dataTable['output_type'] = 'display_data';\n",
              "        await google.colab.output.renderOutput(dataTable, element);\n",
              "        const docLink = document.createElement('div');\n",
              "        docLink.innerHTML = docLinkHtml;\n",
              "        element.appendChild(docLink);\n",
              "      }\n",
              "    </script>\n",
              "  </div>\n",
              "\n",
              "\n",
              "<div id=\"df-c4f61f4d-5052-43b9-bf1b-164a8af4f243\">\n",
              "  <button class=\"colab-df-quickchart\" onclick=\"quickchart('df-c4f61f4d-5052-43b9-bf1b-164a8af4f243')\"\n",
              "            title=\"Suggest charts\"\n",
              "            style=\"display:none;\">\n",
              "\n",
              "<svg xmlns=\"http://www.w3.org/2000/svg\" height=\"24px\"viewBox=\"0 0 24 24\"\n",
              "     width=\"24px\">\n",
              "    <g>\n",
              "        <path d=\"M19 3H5c-1.1 0-2 .9-2 2v14c0 1.1.9 2 2 2h14c1.1 0 2-.9 2-2V5c0-1.1-.9-2-2-2zM9 17H7v-7h2v7zm4 0h-2V7h2v10zm4 0h-2v-4h2v4z\"/>\n",
              "    </g>\n",
              "</svg>\n",
              "  </button>\n",
              "\n",
              "<style>\n",
              "  .colab-df-quickchart {\n",
              "      --bg-color: #E8F0FE;\n",
              "      --fill-color: #1967D2;\n",
              "      --hover-bg-color: #E2EBFA;\n",
              "      --hover-fill-color: #174EA6;\n",
              "      --disabled-fill-color: #AAA;\n",
              "      --disabled-bg-color: #DDD;\n",
              "  }\n",
              "\n",
              "  [theme=dark] .colab-df-quickchart {\n",
              "      --bg-color: #3B4455;\n",
              "      --fill-color: #D2E3FC;\n",
              "      --hover-bg-color: #434B5C;\n",
              "      --hover-fill-color: #FFFFFF;\n",
              "      --disabled-bg-color: #3B4455;\n",
              "      --disabled-fill-color: #666;\n",
              "  }\n",
              "\n",
              "  .colab-df-quickchart {\n",
              "    background-color: var(--bg-color);\n",
              "    border: none;\n",
              "    border-radius: 50%;\n",
              "    cursor: pointer;\n",
              "    display: none;\n",
              "    fill: var(--fill-color);\n",
              "    height: 32px;\n",
              "    padding: 0;\n",
              "    width: 32px;\n",
              "  }\n",
              "\n",
              "  .colab-df-quickchart:hover {\n",
              "    background-color: var(--hover-bg-color);\n",
              "    box-shadow: 0 1px 2px rgba(60, 64, 67, 0.3), 0 1px 3px 1px rgba(60, 64, 67, 0.15);\n",
              "    fill: var(--button-hover-fill-color);\n",
              "  }\n",
              "\n",
              "  .colab-df-quickchart-complete:disabled,\n",
              "  .colab-df-quickchart-complete:disabled:hover {\n",
              "    background-color: var(--disabled-bg-color);\n",
              "    fill: var(--disabled-fill-color);\n",
              "    box-shadow: none;\n",
              "  }\n",
              "\n",
              "  .colab-df-spinner {\n",
              "    border: 2px solid var(--fill-color);\n",
              "    border-color: transparent;\n",
              "    border-bottom-color: var(--fill-color);\n",
              "    animation:\n",
              "      spin 1s steps(1) infinite;\n",
              "  }\n",
              "\n",
              "  @keyframes spin {\n",
              "    0% {\n",
              "      border-color: transparent;\n",
              "      border-bottom-color: var(--fill-color);\n",
              "      border-left-color: var(--fill-color);\n",
              "    }\n",
              "    20% {\n",
              "      border-color: transparent;\n",
              "      border-left-color: var(--fill-color);\n",
              "      border-top-color: var(--fill-color);\n",
              "    }\n",
              "    30% {\n",
              "      border-color: transparent;\n",
              "      border-left-color: var(--fill-color);\n",
              "      border-top-color: var(--fill-color);\n",
              "      border-right-color: var(--fill-color);\n",
              "    }\n",
              "    40% {\n",
              "      border-color: transparent;\n",
              "      border-right-color: var(--fill-color);\n",
              "      border-top-color: var(--fill-color);\n",
              "    }\n",
              "    60% {\n",
              "      border-color: transparent;\n",
              "      border-right-color: var(--fill-color);\n",
              "    }\n",
              "    80% {\n",
              "      border-color: transparent;\n",
              "      border-right-color: var(--fill-color);\n",
              "      border-bottom-color: var(--fill-color);\n",
              "    }\n",
              "    90% {\n",
              "      border-color: transparent;\n",
              "      border-bottom-color: var(--fill-color);\n",
              "    }\n",
              "  }\n",
              "</style>\n",
              "\n",
              "  <script>\n",
              "    async function quickchart(key) {\n",
              "      const quickchartButtonEl =\n",
              "        document.querySelector('#' + key + ' button');\n",
              "      quickchartButtonEl.disabled = true;  // To prevent multiple clicks.\n",
              "      quickchartButtonEl.classList.add('colab-df-spinner');\n",
              "      try {\n",
              "        const charts = await google.colab.kernel.invokeFunction(\n",
              "            'suggestCharts', [key], {});\n",
              "      } catch (error) {\n",
              "        console.error('Error during call to suggestCharts:', error);\n",
              "      }\n",
              "      quickchartButtonEl.classList.remove('colab-df-spinner');\n",
              "      quickchartButtonEl.classList.add('colab-df-quickchart-complete');\n",
              "    }\n",
              "    (() => {\n",
              "      let quickchartButtonEl =\n",
              "        document.querySelector('#df-c4f61f4d-5052-43b9-bf1b-164a8af4f243 button');\n",
              "      quickchartButtonEl.style.display =\n",
              "        google.colab.kernel.accessAllowed ? 'block' : 'none';\n",
              "    })();\n",
              "  </script>\n",
              "</div>\n",
              "\n",
              "    </div>\n",
              "  </div>\n"
            ],
            "application/vnd.google.colaboratory.intrinsic+json": {
              "type": "dataframe",
              "variable_name": "dp"
            }
          },
          "metadata": {},
          "execution_count": 6
        }
      ]
    },
    {
      "cell_type": "code",
      "execution_count": 54,
      "metadata": {
        "id": "pErxq6zcC3xD"
      },
      "outputs": [],
      "source": [
        "from sklearn.model_selection import train_test_split\n",
        "from sklearn.preprocessing import LabelEncoder\n",
        "from math import sqrt\n",
        "\n",
        "# mengkodekan variabel kategoris\n",
        "label_encoder = LabelEncoder()\n",
        "for col in dp.select_dtypes(include='object').columns:\n",
        "    dp[col] = label_encoder.fit_transform(dp[col])\n",
        "\n",
        "# menentukan x dan y\n",
        "X = dp.drop(columns=['JobSatisfaction'])\n",
        "y = dp['JobSatisfaction']\n",
        "\n",
        "# split dataset menjadi training dan testing\n",
        "X_train, X_test, y_train, y_test = train_test_split(X, y, test_size=0.3, random_state=42)\n"
      ]
    },
    {
      "cell_type": "markdown",
      "metadata": {
        "id": "FH3SlAmCA0dI"
      },
      "source": [
        "#### Linear Regression"
      ]
    },
    {
      "cell_type": "code",
      "execution_count": 60,
      "metadata": {
        "colab": {
          "base_uri": "https://localhost:8080/"
        },
        "id": "hA8t0GpPC_nl",
        "outputId": "51d02129-d950-461e-fe39-63f218122d3c"
      },
      "outputs": [
        {
          "output_type": "stream",
          "name": "stdout",
          "text": [
            "Linear Regression R^2 Score: 27.95%\n",
            "Linear Regression RMSE: 1.10\n"
          ]
        },
        {
          "output_type": "stream",
          "name": "stderr",
          "text": [
            "/usr/local/lib/python3.10/dist-packages/sklearn/metrics/_regression.py:492: FutureWarning: 'squared' is deprecated in version 1.4 and will be removed in 1.6. To calculate the root mean squared error, use the function'root_mean_squared_error'.\n",
            "  warnings.warn(\n"
          ]
        }
      ],
      "source": [
        "from sklearn.linear_model import LinearRegression\n",
        "from sklearn.metrics import mean_squared_error, r2_score\n",
        "\n",
        "lr_model = LinearRegression()\n",
        "lr_model.fit(X_train, y_train)\n",
        "y_pred_lr = lr_model.predict(X_test)\n",
        "\n",
        "print(\"Linear Regression R^2 Score: {:.2f}%\".format(r2_score(y_test, y_pred_lr) * 100))\n",
        "print(\"Linear Regression RMSE: {:.2f}\".format(mean_squared_error(y_test, y_pred_lr, squared=False)))\n"
      ]
    },
    {
      "cell_type": "markdown",
      "metadata": {
        "id": "S-iQVVjQA0dJ"
      },
      "source": [
        "#### Neural Network"
      ]
    },
    {
      "cell_type": "code",
      "execution_count": 24,
      "metadata": {
        "colab": {
          "base_uri": "https://localhost:8080/"
        },
        "id": "8OLkl6ApCzyK",
        "outputId": "31a4d45f-aa3c-4d8b-96a0-822936247498"
      },
      "outputs": [
        {
          "output_type": "stream",
          "name": "stdout",
          "text": [
            "Neural Network R^2 Score:59.91%\n",
            "Neural Network RMSE:0.82\n"
          ]
        },
        {
          "output_type": "stream",
          "name": "stderr",
          "text": [
            "/usr/local/lib/python3.10/dist-packages/sklearn/metrics/_regression.py:492: FutureWarning: 'squared' is deprecated in version 1.4 and will be removed in 1.6. To calculate the root mean squared error, use the function'root_mean_squared_error'.\n",
            "  warnings.warn(\n"
          ]
        }
      ],
      "source": [
        "from sklearn.neural_network import MLPRegressor\n",
        "\n",
        "nn_model = MLPRegressor(hidden_layer_sizes=(100,), max_iter=1000, random_state=42)\n",
        "nn_model.fit(X_train, y_train)\n",
        "y_pred_nn = nn_model.predict(X_test)\n",
        "\n",
        "print(\"Neural Network R^2 Score:{:.2f}%\".format (r2_score(y_test, y_pred_nn) * 100))\n",
        "print(\"Neural Network RMSE: {:.2f}\".format(mean_squared_error(y_test, y_pred_nn, squared=False)))\n"
      ]
    },
    {
      "cell_type": "markdown",
      "metadata": {
        "id": "fOsxLLDWA0dK"
      },
      "source": [
        "\n",
        "\n",
        "```\n",
        "# Ini diformat sebagai kode\n",
        "```\n",
        "\n",
        "#### Decision tree Regression"
      ]
    },
    {
      "cell_type": "code",
      "execution_count": 9,
      "metadata": {
        "colab": {
          "base_uri": "https://localhost:8080/"
        },
        "id": "ylGicgE_DG60",
        "outputId": "f9bf452d-6f1f-4055-eb0f-271f8d32b043"
      },
      "outputs": [
        {
          "output_type": "stream",
          "name": "stdout",
          "text": [
            "              precision    recall  f1-score   support\n",
            "\n",
            "           1       0.61      0.61      0.61       134\n",
            "           2       0.75      0.76      0.76        88\n",
            "           3       0.65      0.69      0.67       163\n",
            "           4       0.79      0.75      0.77       360\n",
            "           5       0.71      0.74      0.73       163\n",
            "\n",
            "    accuracy                           0.72       908\n",
            "   macro avg       0.70      0.71      0.71       908\n",
            "weighted avg       0.72      0.72      0.72       908\n",
            "\n",
            "Decision Tree R^2 Score: 37.07%\n",
            "Decision Tree RMSE: 1.03\n"
          ]
        },
        {
          "output_type": "stream",
          "name": "stderr",
          "text": [
            "/usr/local/lib/python3.10/dist-packages/sklearn/metrics/_regression.py:492: FutureWarning: 'squared' is deprecated in version 1.4 and will be removed in 1.6. To calculate the root mean squared error, use the function'root_mean_squared_error'.\n",
            "  warnings.warn(\n"
          ]
        }
      ],
      "source": [
        "from sklearn.tree import DecisionTreeRegressor\n",
        "from sklearn.metrics import mean_squared_error, r2_score\n",
        "from sklearn.metrics import classification_report, accuracy_score\n",
        "\n",
        "dt_model = DecisionTreeRegressor(random_state=42)\n",
        "dt_model.fit(X_train, y_train)\n",
        "y_pred_dt = dt_model.predict(X_test)\n",
        "\n",
        "print(classification_report(y_test, y_pred_dt))\n",
        "print(\"Decision Tree R^2 Score: {:.2f}%\".format(r2_score(y_test, y_pred_dt) * 100))\n",
        "print(\"Decision Tree RMSE: {:.2f}\".format(mean_squared_error(y_test, y_pred_dt, squared=False)))\n",
        "\n"
      ]
    },
    {
      "cell_type": "markdown",
      "metadata": {
        "id": "10noFCmsA0dL"
      },
      "source": [
        "#### Lasso Regression"
      ]
    },
    {
      "cell_type": "code",
      "execution_count": 30,
      "metadata": {
        "colab": {
          "base_uri": "https://localhost:8080/"
        },
        "id": "j7-mgYJTDJYW",
        "outputId": "654b2ae5-5610-4bf4-87ef-83995c1611ce"
      },
      "outputs": [
        {
          "output_type": "stream",
          "name": "stdout",
          "text": [
            "Lasso Regression R^2 Score: 0.40%\n",
            "Lasso Regression RMSE: 1.29\n"
          ]
        },
        {
          "output_type": "stream",
          "name": "stderr",
          "text": [
            "/usr/local/lib/python3.10/dist-packages/sklearn/metrics/_regression.py:492: FutureWarning: 'squared' is deprecated in version 1.4 and will be removed in 1.6. To calculate the root mean squared error, use the function'root_mean_squared_error'.\n",
            "  warnings.warn(\n"
          ]
        }
      ],
      "source": [
        "from sklearn.linear_model import Lasso\n",
        "\n",
        "lasso_model = Lasso(alpha=1.0, random_state=42)\n",
        "lasso_model.fit(X_train, y_train)\n",
        "y_pred_lasso = lasso_model.predict(X_test)\n",
        "\n",
        "print(\"Lasso Regression R^2 Score: {:.2f}%\".format (r2_score(y_test, y_pred_lasso) * 100))\n",
        "print(\"Lasso Regression RMSE: {:.2f}\".format (mean_squared_error(y_test, y_pred_lasso, squared=False)))\n"
      ]
    },
    {
      "cell_type": "markdown",
      "metadata": {
        "id": "OH7MCS_CA0dL"
      },
      "source": [
        "#### Ridge Regression"
      ]
    },
    {
      "cell_type": "code",
      "execution_count": 31,
      "metadata": {
        "colab": {
          "base_uri": "https://localhost:8080/"
        },
        "id": "tIGBiauiDME4",
        "outputId": "58e19e84-ce69-4abe-91b2-78684de13504"
      },
      "outputs": [
        {
          "output_type": "stream",
          "name": "stdout",
          "text": [
            "Ridge Regression R^2 Score: 27.95%\n",
            "Ridge Regression RMSE: 1.10\n"
          ]
        },
        {
          "output_type": "stream",
          "name": "stderr",
          "text": [
            "/usr/local/lib/python3.10/dist-packages/sklearn/metrics/_regression.py:492: FutureWarning: 'squared' is deprecated in version 1.4 and will be removed in 1.6. To calculate the root mean squared error, use the function'root_mean_squared_error'.\n",
            "  warnings.warn(\n"
          ]
        }
      ],
      "source": [
        "from sklearn.linear_model import Ridge\n",
        "\n",
        "ridge_model = Ridge(alpha=1.0, random_state=42)\n",
        "ridge_model.fit(X_train, y_train)\n",
        "y_pred_ridge = ridge_model.predict(X_test)\n",
        "\n",
        "print(\"Ridge Regression R^2 Score: {:.2f}%\".format (r2_score(y_test, y_pred_ridge)* 100))\n",
        "print(\"Ridge Regression RMSE: {:.2f}\".format (mean_squared_error(y_test, y_pred_ridge,squared=False)))\n"
      ]
    },
    {
      "cell_type": "markdown",
      "metadata": {
        "id": "HpjVUIbYA0dM"
      },
      "source": [
        "#### Visualisasi Perbandingan Antar-Metode"
      ]
    },
    {
      "cell_type": "code",
      "execution_count": 32,
      "metadata": {
        "colab": {
          "base_uri": "https://localhost:8080/",
          "height": 957
        },
        "id": "Vogaw5b-DmRi",
        "outputId": "9bdc4868-36d6-4cc6-e7cd-f736a8d4cf7c"
      },
      "outputs": [
        {
          "output_type": "display_data",
          "data": {
            "text/plain": [
              "<Figure size 1000x500 with 1 Axes>"
            ],
            "image/png": "[encoded data removed]"
          },
          "metadata": {}
        },
        {
          "output_type": "display_data",
          "data": {
            "text/plain": [
              "<Figure size 1000x500 with 1 Axes>"
            ],
            "image/png": "[encoded data removed]"
          },
          "metadata": {}
        }
      ],
      "source": [
        "models = ['Linear Regression', 'Neural Network', 'Decision Tree', 'Lasso', 'Ridge']\n",
        "r2_scores = [\n",
        "    r2_score(y_test, y_pred_lr),\n",
        "    r2_score(y_test, y_pred_nn),\n",
        "    r2_score(y_test, y_pred_dt),\n",
        "    r2_score(y_test, y_pred_lasso),\n",
        "    r2_score(y_test, y_pred_ridge)\n",
        "]\n",
        "\n",
        "mse_scores = [\n",
        "    mean_squared_error(y_test, y_pred_lr),\n",
        "    mean_squared_error(y_test, y_pred_nn),\n",
        "    mean_squared_error(y_test, y_pred_dt),\n",
        "    mean_squared_error(y_test, y_pred_lasso),\n",
        "    mean_squared_error(y_test, y_pred_ridge)\n",
        "\n",
        "]\n",
        "\n",
        "import matplotlib.pyplot as plt\n",
        "import seaborn as sns\n",
        "\n",
        "# Plot R^2 scores\n",
        "plt.figure(figsize=(10, 5))\n",
        "sns.barplot(x=models, y=r2_scores)\n",
        "plt.title('Model Comparison - R^2 Score')\n",
        "plt.ylabel('R^2 Score')\n",
        "plt.xlabel('Model')\n",
        "plt.show()\n",
        "\n",
        "# Plot MSE\n",
        "plt.figure(figsize=(10, 5))\n",
        "sns.barplot(x=models, y=mse_scores)\n",
        "plt.title('Model Comparison - Mean Squared Error')\n",
        "plt.ylabel('MSE')\n",
        "plt.xlabel('Model')\n",
        "plt.show()\n"
      ]
    },
    {
      "cell_type": "markdown",
      "metadata": {
        "id": "-7ALWb5UA0dM"
      },
      "source": [
        "#### Kesimpulan"
      ]
    },
    {
      "cell_type": "code",
      "execution_count": 52,
      "metadata": {
        "id": "nP3UESGCA0dM",
        "outputId": "3e17ec11-dd39-4ca1-bcd6-3f9a04bc725f",
        "colab": {
          "base_uri": "https://localhost:8080/"
        }
      },
      "outputs": [
        {
          "output_type": "stream",
          "name": "stdout",
          "text": [
            "Kesimpulan:\n",
            "Model dengan R² tertinggi adalah Neural Network dengan skor 59.91%.\n",
            "Model dengan RMSE terendah adalah Neural Network dengan nilai 0.82.\n",
            "Secara keseluruhan, model Neural Network adalah yang paling akurat berdasarkan kedua metrik.\n"
          ]
        }
      ],
      "source": [
        "# Kesimpulan\n",
        "from math import sqrt\n",
        "rmse_scores = [sqrt(mse) for mse in mse_scores]\n",
        "\n",
        "best_r2_model = models[r2_scores.index(max(r2_scores))]\n",
        "best_rmse_model = models[rmse_scores.index(min(rmse_scores))]\n",
        "\n",
        "print(\"Kesimpulan:\")\n",
        "print(f\"Model dengan R² tertinggi adalah {best_r2_model} dengan skor {max(r2_scores) * 100:.2f}%.\")\n",
        "print(f\"Model dengan RMSE terendah adalah {best_rmse_model} dengan nilai {min(rmse_scores):.2f}.\")\n",
        "if best_r2_model == best_rmse_model:\n",
        "    print(f\"Secara keseluruhan, model {best_r2_model} adalah yang paling akurat berdasarkan kedua metrik.\")\n",
        "else:\n",
        "    print(\"Model terbaik berbeda untuk masing-masing metrik. Pilih model berdasarkan kebutuhan:\")\n",
        "    print(f\" - Jika memprioritaskan variabilitas data yang dijelaskan, pilih {best_r2_model}.\")\n",
        "    print(f\" - Jika memprioritaskan akurasi prediksi dalam satuan asli, pilih {best_rmse_model}.\")\n",
        "\n",
        "    print(\"Neural Network R^2 Score:{:.2f}%\".format (r2_score(y_test, y_pred_nn) * 100))"
      ]
    },
    {
      "cell_type": "markdown",
      "metadata": {
        "id": "mIhoFXX-A0dM"
      },
      "source": [
        "### Klasisfikasi"
      ]
    },
    {
      "cell_type": "markdown",
      "metadata": {
        "id": "QzxpLg0tA0dN"
      },
      "source": [
        "#### Naive bayes"
      ]
    },
    {
      "cell_type": "code",
      "execution_count": 75,
      "metadata": {
        "colab": {
          "base_uri": "https://localhost:8080/"
        },
        "id": "Su2FQpGTGaMu",
        "outputId": "8aa4df56-6bbf-4c2f-9ac8-9b7d4eb06235"
      },
      "outputs": [
        {
          "output_type": "stream",
          "name": "stdout",
          "text": [
            "              precision    recall  f1-score   support\n",
            "\n",
            "           1       0.86      0.62      0.72       134\n",
            "           2       0.51      0.20      0.29        88\n",
            "           3       0.42      0.39      0.41       163\n",
            "           4       0.54      0.87      0.66       360\n",
            "           5       0.62      0.15      0.24       163\n",
            "\n",
            "    accuracy                           0.55       908\n",
            "   macro avg       0.59      0.45      0.46       908\n",
            "weighted avg       0.57      0.55      0.51       908\n",
            "\n",
            "Akurasi Naive Bayes : 55.40%\n"
          ]
        }
      ],
      "source": [
        "from sklearn.naive_bayes import GaussianNB\n",
        "from sklearn.metrics import accuracy_score\n",
        "\n",
        "nb_model = GaussianNB()\n",
        "nb_model.fit(X_train, y_train)\n",
        "y_pred_nb = nb_model.predict(X_test)\n",
        "\n",
        "print(classification_report(y_test, y_pred_nb))\n",
        "print(\"Akurasi Naive Bayes : {:.2f}%\".format(accuracy_score(y_test, y_pred_nb)* 100))\n"
      ]
    },
    {
      "cell_type": "markdown",
      "metadata": {
        "id": "x61zJFZ6A0dN"
      },
      "source": [
        "#### Decision Tree"
      ]
    },
    {
      "cell_type": "code",
      "execution_count": 66,
      "metadata": {
        "colab": {
          "base_uri": "https://localhost:8080/"
        },
        "id": "E2rcNpOvGcTq",
        "outputId": "cb66d819-5893-44f0-c43d-b1d2bca1bcb4"
      },
      "outputs": [
        {
          "output_type": "stream",
          "name": "stdout",
          "text": [
            "              precision    recall  f1-score   support\n",
            "\n",
            "           1       0.60      0.58      0.59       134\n",
            "           2       0.71      0.73      0.72        88\n",
            "           3       0.67      0.72      0.70       163\n",
            "           4       0.78      0.74      0.76       360\n",
            "           5       0.66      0.68      0.67       163\n",
            "\n",
            "    accuracy                           0.70       908\n",
            "   macro avg       0.68      0.69      0.69       908\n",
            "weighted avg       0.71      0.70      0.70       908\n",
            "\n",
            "Akurasi model Decision Tree: 70.37%\n"
          ]
        }
      ],
      "source": [
        "from sklearn.tree import DecisionTreeClassifier\n",
        "\n",
        "dt_model = DecisionTreeClassifier(random_state=42)\n",
        "dt_model.fit(X_train, y_train)\n",
        "y_pred_dt = dt_model.predict(X_test)\n",
        "\n",
        "print(classification_report(y_test, y_pred_dt))\n",
        "print(\"Akurasi model Decision Tree: {:.2f}%\".format(accuracy_score(y_test, y_pred_dt) * 100))\n"
      ]
    },
    {
      "cell_type": "markdown",
      "metadata": {
        "id": "tFNcJHWsA0dO"
      },
      "source": [
        "#### Random Forest"
      ]
    },
    {
      "cell_type": "code",
      "execution_count": 68,
      "metadata": {
        "colab": {
          "base_uri": "https://localhost:8080/"
        },
        "id": "Yx5Ys1xRGert",
        "outputId": "eec9e279-2fcf-4e2b-aec2-92e3de903fe0"
      },
      "outputs": [
        {
          "output_type": "stream",
          "name": "stdout",
          "text": [
            "              precision    recall  f1-score   support\n",
            "\n",
            "           1       0.82      0.61      0.70       134\n",
            "           2       0.80      0.64      0.71        88\n",
            "           3       0.82      0.71      0.76       163\n",
            "           4       0.73      0.95      0.82       360\n",
            "           5       0.82      0.62      0.71       163\n",
            "\n",
            "    accuracy                           0.77       908\n",
            "   macro avg       0.80      0.71      0.74       908\n",
            "weighted avg       0.78      0.77      0.76       908\n",
            "\n",
            "Random Forest Accuracy:76.87%\n"
          ]
        }
      ],
      "source": [
        "from sklearn.ensemble import RandomForestClassifier\n",
        "\n",
        "rf_model = RandomForestClassifier(random_state=42)\n",
        "rf_model.fit(X_train, y_train)\n",
        "y_pred_rf = rf_model.predict(X_test)\n",
        "\n",
        "print(classification_report(y_test, y_pred_rf))\n",
        "print(\"Random Forest Accuracy: {:.2f}%\".format(accuracy_score(y_test, y_pred_rf)* 100))\n"
      ]
    },
    {
      "cell_type": "markdown",
      "metadata": {
        "id": "WWTKzr6qA0dO"
      },
      "source": [
        "#### KNN"
      ]
    },
    {
      "cell_type": "code",
      "execution_count": 69,
      "metadata": {
        "colab": {
          "base_uri": "https://localhost:8080/"
        },
        "id": "KJSiK7VLGhWu",
        "outputId": "e9a7a22d-2881-4ba7-ed0e-80755cb58854"
      },
      "outputs": [
        {
          "output_type": "stream",
          "name": "stdout",
          "text": [
            "              precision    recall  f1-score   support\n",
            "\n",
            "           1       0.31      0.20      0.24       134\n",
            "           2       0.59      0.72      0.65        88\n",
            "           3       0.46      0.45      0.46       163\n",
            "           4       0.67      0.79      0.72       360\n",
            "           5       0.78      0.61      0.68       163\n",
            "\n",
            "    accuracy                           0.60       908\n",
            "   macro avg       0.56      0.55      0.55       908\n",
            "weighted avg       0.59      0.60      0.59       908\n",
            "\n",
            "KNN Accuracy: 60.35%\n"
          ]
        }
      ],
      "source": [
        "from sklearn.neighbors import KNeighborsClassifier\n",
        "\n",
        "knn_model = KNeighborsClassifier(n_neighbors=5)  # You can tune 'n_neighbors'\n",
        "knn_model.fit(X_train, y_train)\n",
        "y_pred_knn = knn_model.predict(X_test)\n",
        "\n",
        "print(classification_report(y_test, y_pred_knn))\n",
        "print(\"KNN Accuracy: {:.2f}%\".format(accuracy_score(y_test, y_pred_knn)* 100))\n"
      ]
    },
    {
      "cell_type": "markdown",
      "metadata": {
        "id": "7aHyNXHjA0dO"
      },
      "source": [
        "#### Visualisasi Perbandingan Antar-Metode"
      ]
    },
    {
      "cell_type": "code",
      "execution_count": 72,
      "metadata": {
        "colab": {
          "base_uri": "https://localhost:8080/",
          "height": 472
        },
        "id": "ZknP5LxFGmAe",
        "outputId": "87969495-6b6f-44b9-852d-c51b4dfa5c9b"
      },
      "outputs": [
        {
          "output_type": "display_data",
          "data": {
            "text/plain": [
              "<Figure size 640x480 with 1 Axes>"
            ],
            "image/png": "[encoded data removed]"
          },
          "metadata": {}
        }
      ],
      "source": [
        "models = ['Naive Bayes', 'Decision Tree', 'Random Forest', 'KNN']\n",
        "accuracies = [\n",
        "    accuracy_score(y_test, y_pred_nb),\n",
        "    accuracy_score(y_test, y_pred_dt),\n",
        "    accuracy_score(y_test, y_pred_rf),\n",
        "    accuracy_score(y_test, y_pred_knn),\n",
        "]\n",
        "\n",
        "# Visualisasi\n",
        "import matplotlib.pyplot as plt\n",
        "import seaborn as sns\n",
        "\n",
        "sns.barplot(x=models, y=accuracies)\n",
        "plt.title('Model Comparison')\n",
        "plt.ylabel('Accuracy')\n",
        "plt.xlabel('Model')\n",
        "plt.show()\n"
      ]
    },
    {
      "cell_type": "markdown",
      "metadata": {
        "id": "mncnE83RA0dO"
      },
      "source": [
        "#### Kesimpulan"
      ]
    },
    {
      "cell_type": "code",
      "execution_count": 74,
      "metadata": {
        "id": "XqLRDC7QG0Em",
        "outputId": "316c1a8f-66be-444f-bebc-37fdaf46c94a",
        "colab": {
          "base_uri": "https://localhost:8080/"
        }
      },
      "outputs": [
        {
          "output_type": "stream",
          "name": "stdout",
          "text": [
            "Kesimpulan:\n",
            "Model dengan akurasi tertinggi adalah Random Forest dengan nilai akurasi 76.87%.\n"
          ]
        }
      ],
      "source": [
        "# Kesimpulan\n",
        "best_model = models[accuracies.index(max(accuracies))]\n",
        "best_accuracy = max(accuracies)\n",
        "\n",
        "print(\"Kesimpulan:\")\n",
        "print(f\"Model dengan akurasi tertinggi adalah {best_model} dengan nilai akurasi {best_accuracy * 100:.2f}%.\")\n"
      ]
    },
    {
      "cell_type": "markdown",
      "source": [
        "Uji Model\n"
      ],
      "metadata": {
        "id": "7OY-PWM4Yt1j"
      }
    },
    {
      "cell_type": "code",
      "source": [
        "print(\"Kesimpulan:\")\n",
        "print(\"Dari metode supervised learning yaitu regressi dan klasifikan metode yang paling cocok digunakan untuk memprediksi nilai y adalah dengan metode klasifikasi menggunakan model Random Forrest\")"
      ],
      "metadata": {
        "colab": {
          "base_uri": "https://localhost:8080/"
        },
        "id": "-fK29jc_YLTU",
        "outputId": "58c47333-6f80-4aa5-cede-1b7258bdd2e3"
      },
      "execution_count": 78,
      "outputs": [
        {
          "output_type": "stream",
          "name": "stdout",
          "text": [
            "Kesimpulan:\n",
            "Dari metode supervised learning yaitu regressi dan klasifikan metode yang paling cocok digunakan untuk memprediksi nilai y adalah dengan metode klasifikasi menggunakan model Random Forrest\n"
          ]
        }
      ]
    },
    {
      "cell_type": "code",
      "source": [
        "new_data = pd.DataFrame({\n",
        "    'EmpID': [9999],  # ID dummy\n",
        "    'Gender': [1],  # Encoded 'Female'\n",
        "    'Age': [28],\n",
        "    'MaritalStatus': [0],  # Encoded 'Single'\n",
        "    'JobLevel': [2],  # Encoded 'Mid'\n",
        "    'Experience': [6],\n",
        "    'Dept': [1],  # Encoded 'IT'\n",
        "    'EmpType': [0],  # Encoded 'Full-Time'\n",
        "    'WLB': [3],\n",
        "    'WorkEnv': [4],\n",
        "    'PhysicalActivityHours': [3.0],\n",
        "    'Workload': [7],\n",
        "    'Stress': [4],\n",
        "    'SleepHours': [6.5],\n",
        "    'CommuteMode': [2],  # Encoded 'Public Transport'\n",
        "    'CommuteDistance': [15],\n",
        "    'NumCompanies': [2],\n",
        "    'TeamSize': [10],\n",
        "    'NumReports': [1],\n",
        "    'EduLevel': [2],  # Encoded 'Bachelor'\n",
        "    'haveOT': [1],  # Encoded True\n",
        "    'TrainingHoursPerYear': [25.0]\n",
        "})\n",
        "\n",
        "\n",
        "from sklearn.preprocessing import StandardScaler\n",
        "scaler = StandardScaler()\n",
        "\n",
        "X_train_scaled = scaler.fit_transform(X_train)\n",
        "X_test_scaled = scaler.transform(X_test)\n",
        "\n",
        "new_data_scaled = scaler.transform(new_data)\n",
        "prediction = rf_model.predict(new_data_scaled)\n",
        "\n",
        "print(\"Prediksi tingkat kepuasan kerja:\", prediction)\n"
      ],
      "metadata": {
        "colab": {
          "base_uri": "https://localhost:8080/"
        },
        "id": "eNGTu1QYYwvz",
        "outputId": "34d5e01c-99cf-4730-beaa-f90a6727c508"
      },
      "execution_count": 86,
      "outputs": [
        {
          "output_type": "stream",
          "name": "stdout",
          "text": [
            "Prediksi tingkat kepuasan kerja: [5]\n"
          ]
        },
        {
          "output_type": "stream",
          "name": "stderr",
          "text": [
            "/usr/local/lib/python3.10/dist-packages/sklearn/base.py:493: UserWarning: X does not have valid feature names, but RandomForestClassifier was fitted with feature names\n",
            "  warnings.warn(\n"
          ]
        }
      ]
    },
    {
      "cell_type": "code",
      "source": [],
      "metadata": {
        "id": "ZUQMxYE3bT4Q"
      },
      "execution_count": null,
      "outputs": []
    }
  ],
  "metadata": {
    "colab": {
      "provenance": []
    },
    "kernelspec": {
      "display_name": "Python 3 (ipykernel)",
      "language": "python",
      "name": "python3"
    },
    "language_info": {
      "codemirror_mode": {
        "name": "ipython",
        "version": 3
      },
      "file_extension": ".py",
      "mimetype": "text/x-python",
      "name": "python",
      "nbconvert_exporter": "python",
      "pygments_lexer": "ipython3",
      "version": "3.10.9"
    }
  },
  "nbformat": 4,
  "nbformat_minor": 0
}